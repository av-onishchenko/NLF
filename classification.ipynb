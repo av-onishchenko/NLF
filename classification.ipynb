{
  "cells": [
    {
      "attachments": {},
      "cell_type": "markdown",
      "metadata": {
        "id": "4vcdp8aziDz-"
      },
      "source": [
        "## Классификация игроков по командам\n",
        "Задача состоит в том, чтобы на каждом видео классифицировать игроков по двум командам. Особенность этой задачи заключается в том, что команд много, все команды имеют различную экипировку, которая может меняться от игры к игре, и при этом нет соответствующей разметки. Разметку шлемов можно найти в `train_labels.csv`.\n"
      ]
    },
    {
      "cell_type": "markdown",
      "metadata": {
        "id": "BePULub4wGjO"
      },
      "source": [
        "Загрузим библиотеки"
      ]
    },
    {
      "cell_type": "code",
      "execution_count": null,
      "metadata": {
        "id": "MXCOanSviDz_"
      },
      "outputs": [],
      "source": [
        "import os\n",
        "import torch\n",
        "import cv2\n",
        "import subprocess\n",
        "import numpy as np\n",
        "import pandas as pd\n",
        "from torch import nn\n",
        "from tqdm import tqdm\n",
        "import albumentations as A\n",
        "from sklearn.cluster import KMeans\n",
        "from google.colab.patches import cv2_imshow\n",
        "from IPython.core.display import Video\n",
        "from torchvision.models import resnet18\n",
        "import torchvision.models as tm\n",
        "from sklearn.metrics import accuracy_score\n",
        "from sklearn.cluster import AgglomerativeClustering\n",
        "import warnings\n",
        "import time\n",
        "warnings.filterwarnings(\"ignore\")"
      ]
    },
    {
      "cell_type": "markdown",
      "metadata": {
        "id": "EOhvBnfQwSc5"
      },
      "source": [
        "Считаем данные"
      ]
    },
    {
      "cell_type": "code",
      "execution_count": null,
      "metadata": {
        "colab": {
          "base_uri": "https://localhost:8080/"
        },
        "id": "WQ2V4Tg-iVQp",
        "outputId": "6b758325-cf39-4d9f-cea4-3e989cc5bdef"
      },
      "outputs": [
        {
          "name": "stdout",
          "output_type": "stream",
          "text": [
            "Drive already mounted at /content/drive; to attempt to forcibly remount, call drive.mount(\"/content/drive\", force_remount=True).\n"
          ]
        }
      ],
      "source": [
        "from google.colab import drive\n",
        "drive.mount('/content/drive')\n",
        "root = \"/content/drive/MyDrive/ColabNotebooks/nfl-health-and-safety-helmet-assignment/\""
      ]
    },
    {
      "cell_type": "code",
      "execution_count": null,
      "metadata": {
        "colab": {
          "base_uri": "https://localhost:8080/",
          "height": 206
        },
        "id": "yIilxCOqjHCf",
        "outputId": "cc7d9d7a-b8dc-40b2-da74-e7c5782c595a"
      },
      "outputs": [
        {
          "data": {
            "text/html": [
              "\n",
              "  <div id=\"df-589b13f3-f531-4afb-b5d4-0ede30f8b634\">\n",
              "    <div class=\"colab-df-container\">\n",
              "      <div>\n",
              "<style scoped>\n",
              "    .dataframe tbody tr th:only-of-type {\n",
              "        vertical-align: middle;\n",
              "    }\n",
              "\n",
              "    .dataframe tbody tr th {\n",
              "        vertical-align: top;\n",
              "    }\n",
              "\n",
              "    .dataframe thead th {\n",
              "        text-align: right;\n",
              "    }\n",
              "</style>\n",
              "<table border=\"1\" class=\"dataframe\">\n",
              "  <thead>\n",
              "    <tr style=\"text-align: right;\">\n",
              "      <th></th>\n",
              "      <th>video_frame</th>\n",
              "      <th>gameKey</th>\n",
              "      <th>playID</th>\n",
              "      <th>view</th>\n",
              "      <th>video</th>\n",
              "      <th>frame</th>\n",
              "      <th>label</th>\n",
              "      <th>left</th>\n",
              "      <th>width</th>\n",
              "      <th>top</th>\n",
              "      <th>height</th>\n",
              "      <th>impactType</th>\n",
              "      <th>isDefinitiveImpact</th>\n",
              "      <th>isSidelinePlayer</th>\n",
              "    </tr>\n",
              "  </thead>\n",
              "  <tbody>\n",
              "    <tr>\n",
              "      <th>0</th>\n",
              "      <td>57583_000082_Endzone_1</td>\n",
              "      <td>57583</td>\n",
              "      <td>82</td>\n",
              "      <td>Endzone</td>\n",
              "      <td>57583_000082_Endzone.mp4</td>\n",
              "      <td>1</td>\n",
              "      <td>H90</td>\n",
              "      <td>245</td>\n",
              "      <td>21</td>\n",
              "      <td>327</td>\n",
              "      <td>29</td>\n",
              "      <td>None</td>\n",
              "      <td>False</td>\n",
              "      <td>False</td>\n",
              "    </tr>\n",
              "    <tr>\n",
              "      <th>1</th>\n",
              "      <td>57583_000082_Endzone_1</td>\n",
              "      <td>57583</td>\n",
              "      <td>82</td>\n",
              "      <td>Endzone</td>\n",
              "      <td>57583_000082_Endzone.mp4</td>\n",
              "      <td>1</td>\n",
              "      <td>V79</td>\n",
              "      <td>310</td>\n",
              "      <td>21</td>\n",
              "      <td>345</td>\n",
              "      <td>12</td>\n",
              "      <td>None</td>\n",
              "      <td>False</td>\n",
              "      <td>False</td>\n",
              "    </tr>\n",
              "    <tr>\n",
              "      <th>2</th>\n",
              "      <td>57583_000082_Endzone_1</td>\n",
              "      <td>57583</td>\n",
              "      <td>82</td>\n",
              "      <td>Endzone</td>\n",
              "      <td>57583_000082_Endzone.mp4</td>\n",
              "      <td>1</td>\n",
              "      <td>H97</td>\n",
              "      <td>410</td>\n",
              "      <td>21</td>\n",
              "      <td>323</td>\n",
              "      <td>29</td>\n",
              "      <td>None</td>\n",
              "      <td>False</td>\n",
              "      <td>False</td>\n",
              "    </tr>\n",
              "    <tr>\n",
              "      <th>3</th>\n",
              "      <td>57583_000082_Endzone_1</td>\n",
              "      <td>57583</td>\n",
              "      <td>82</td>\n",
              "      <td>Endzone</td>\n",
              "      <td>57583_000082_Endzone.mp4</td>\n",
              "      <td>1</td>\n",
              "      <td>V72</td>\n",
              "      <td>443</td>\n",
              "      <td>22</td>\n",
              "      <td>344</td>\n",
              "      <td>16</td>\n",
              "      <td>None</td>\n",
              "      <td>False</td>\n",
              "      <td>False</td>\n",
              "    </tr>\n",
              "    <tr>\n",
              "      <th>4</th>\n",
              "      <td>57583_000082_Endzone_1</td>\n",
              "      <td>57583</td>\n",
              "      <td>82</td>\n",
              "      <td>Endzone</td>\n",
              "      <td>57583_000082_Endzone.mp4</td>\n",
              "      <td>1</td>\n",
              "      <td>H50</td>\n",
              "      <td>518</td>\n",
              "      <td>21</td>\n",
              "      <td>212</td>\n",
              "      <td>28</td>\n",
              "      <td>None</td>\n",
              "      <td>False</td>\n",
              "      <td>False</td>\n",
              "    </tr>\n",
              "  </tbody>\n",
              "</table>\n",
              "</div>\n",
              "      <button class=\"colab-df-convert\" onclick=\"convertToInteractive('df-589b13f3-f531-4afb-b5d4-0ede30f8b634')\"\n",
              "              title=\"Convert this dataframe to an interactive table.\"\n",
              "              style=\"display:none;\">\n",
              "        \n",
              "  <svg xmlns=\"http://www.w3.org/2000/svg\" height=\"24px\"viewBox=\"0 0 24 24\"\n",
              "       width=\"24px\">\n",
              "    <path d=\"M0 0h24v24H0V0z\" fill=\"none\"/>\n",
              "    <path d=\"M18.56 5.44l.94 2.06.94-2.06 2.06-.94-2.06-.94-.94-2.06-.94 2.06-2.06.94zm-11 1L8.5 8.5l.94-2.06 2.06-.94-2.06-.94L8.5 2.5l-.94 2.06-2.06.94zm10 10l.94 2.06.94-2.06 2.06-.94-2.06-.94-.94-2.06-.94 2.06-2.06.94z\"/><path d=\"M17.41 7.96l-1.37-1.37c-.4-.4-.92-.59-1.43-.59-.52 0-1.04.2-1.43.59L10.3 9.45l-7.72 7.72c-.78.78-.78 2.05 0 2.83L4 21.41c.39.39.9.59 1.41.59.51 0 1.02-.2 1.41-.59l7.78-7.78 2.81-2.81c.8-.78.8-2.07 0-2.86zM5.41 20L4 18.59l7.72-7.72 1.47 1.35L5.41 20z\"/>\n",
              "  </svg>\n",
              "      </button>\n",
              "      \n",
              "  <style>\n",
              "    .colab-df-container {\n",
              "      display:flex;\n",
              "      flex-wrap:wrap;\n",
              "      gap: 12px;\n",
              "    }\n",
              "\n",
              "    .colab-df-convert {\n",
              "      background-color: #E8F0FE;\n",
              "      border: none;\n",
              "      border-radius: 50%;\n",
              "      cursor: pointer;\n",
              "      display: none;\n",
              "      fill: #1967D2;\n",
              "      height: 32px;\n",
              "      padding: 0 0 0 0;\n",
              "      width: 32px;\n",
              "    }\n",
              "\n",
              "    .colab-df-convert:hover {\n",
              "      background-color: #E2EBFA;\n",
              "      box-shadow: 0px 1px 2px rgba(60, 64, 67, 0.3), 0px 1px 3px 1px rgba(60, 64, 67, 0.15);\n",
              "      fill: #174EA6;\n",
              "    }\n",
              "\n",
              "    [theme=dark] .colab-df-convert {\n",
              "      background-color: #3B4455;\n",
              "      fill: #D2E3FC;\n",
              "    }\n",
              "\n",
              "    [theme=dark] .colab-df-convert:hover {\n",
              "      background-color: #434B5C;\n",
              "      box-shadow: 0px 1px 3px 1px rgba(0, 0, 0, 0.15);\n",
              "      filter: drop-shadow(0px 1px 2px rgba(0, 0, 0, 0.3));\n",
              "      fill: #FFFFFF;\n",
              "    }\n",
              "  </style>\n",
              "\n",
              "      <script>\n",
              "        const buttonEl =\n",
              "          document.querySelector('#df-589b13f3-f531-4afb-b5d4-0ede30f8b634 button.colab-df-convert');\n",
              "        buttonEl.style.display =\n",
              "          google.colab.kernel.accessAllowed ? 'block' : 'none';\n",
              "\n",
              "        async function convertToInteractive(key) {\n",
              "          const element = document.querySelector('#df-589b13f3-f531-4afb-b5d4-0ede30f8b634');\n",
              "          const dataTable =\n",
              "            await google.colab.kernel.invokeFunction('convertToInteractive',\n",
              "                                                     [key], {});\n",
              "          if (!dataTable) return;\n",
              "\n",
              "          const docLinkHtml = 'Like what you see? Visit the ' +\n",
              "            '<a target=\"_blank\" href=https://colab.research.google.com/notebooks/data_table.ipynb>data table notebook</a>'\n",
              "            + ' to learn more about interactive tables.';\n",
              "          element.innerHTML = '';\n",
              "          dataTable['output_type'] = 'display_data';\n",
              "          await google.colab.output.renderOutput(dataTable, element);\n",
              "          const docLink = document.createElement('div');\n",
              "          docLink.innerHTML = docLinkHtml;\n",
              "          element.appendChild(docLink);\n",
              "        }\n",
              "      </script>\n",
              "    </div>\n",
              "  </div>\n",
              "  "
            ],
            "text/plain": [
              "              video_frame  gameKey  playID     view                     video  \\\n",
              "0  57583_000082_Endzone_1    57583      82  Endzone  57583_000082_Endzone.mp4   \n",
              "1  57583_000082_Endzone_1    57583      82  Endzone  57583_000082_Endzone.mp4   \n",
              "2  57583_000082_Endzone_1    57583      82  Endzone  57583_000082_Endzone.mp4   \n",
              "3  57583_000082_Endzone_1    57583      82  Endzone  57583_000082_Endzone.mp4   \n",
              "4  57583_000082_Endzone_1    57583      82  Endzone  57583_000082_Endzone.mp4   \n",
              "\n",
              "   frame label  left  width  top  height impactType  isDefinitiveImpact  \\\n",
              "0      1   H90   245     21  327      29       None               False   \n",
              "1      1   V79   310     21  345      12       None               False   \n",
              "2      1   H97   410     21  323      29       None               False   \n",
              "3      1   V72   443     22  344      16       None               False   \n",
              "4      1   H50   518     21  212      28       None               False   \n",
              "\n",
              "   isSidelinePlayer  \n",
              "0             False  \n",
              "1             False  \n",
              "2             False  \n",
              "3             False  \n",
              "4             False  "
            ]
          },
          "execution_count": 4,
          "metadata": {},
          "output_type": "execute_result"
        }
      ],
      "source": [
        "bboxes = pd.read_csv(root + \"train_labels.csv\")\n",
        "bboxes.head()"
      ]
    },
    {
      "cell_type": "markdown",
      "metadata": {
        "id": "1NCr8NE08KdX"
      },
      "source": [
        "Подготовим фреймы из 10 первых видео"
      ]
    },
    {
      "cell_type": "code",
      "execution_count": null,
      "metadata": {
        "id": "V-778p3u-_UP"
      },
      "outputs": [],
      "source": [
        "def make_frame(video_name, frame_dir, img_ext='jpg'):\n",
        "    ''' Функция, чтобы выделять фреймы для видео '''\n",
        "    image_name = video_name[:-4]\n",
        "    os.makedirs(frame_dir, exist_ok=True)\n",
        "    cmd = 'ffmpeg -i \\\"{}\\\" -qscale:v 2 \\\"{}/{}_%d.{}\\\"'.format(root + 'test/' + video_name, frame_dir, image_name, img_ext)\n",
        "    subprocess.call(cmd, shell=True)\n",
        "    cmd = 'ffmpeg -i \\\"{}\\\" -qscale:v 2 \\\"{}/{}_%d.{}\\\"'.format(root + 'train/' + video_name, frame_dir, image_name, img_ext)\n",
        "    subprocess.call(cmd, shell=True)"
      ]
    },
    {
      "cell_type": "code",
      "execution_count": null,
      "metadata": {
        "id": "Wx68ipOrPVjh"
      },
      "outputs": [],
      "source": [
        "names = []\n",
        "\n",
        "for video_name in bboxes['video'].unique():\n",
        "  names.append(video_name)\n",
        "  print(video_name)\n",
        "  frame_dir = 'mp4_img/' + video_name[:-4]\n",
        "  make_frame(video_name, root + frame_dir, img_ext='png')\n",
        "  if len(names) == 10:\n",
        "    break"
      ]
    },
    {
      "cell_type": "markdown",
      "metadata": {
        "id": "pMt-Cnh0lWQ8"
      },
      "source": [
        "Будем считать, что первые 6 видео это трейн, а ооставшиеся 4 тест."
      ]
    },
    {
      "attachments": {},
      "cell_type": "markdown",
      "metadata": {
        "id": "L3LKzdc4wVR1"
      },
      "source": [
        "**Первый метод**"
      ]
    },
    {
      "attachments": {},
      "cell_type": "markdown",
      "metadata": {
        "id": "2nDLPDtxlcJ4"
      },
      "source": [
        "Для данного решения не столь важно, что трейн, а что тест, так как мы нигде не смотрим на тагреты. Решение будет состоять из двух k-means.\n",
        "\n",
        "Первый k-means, будет находить самые популярные цвета. Возьмет по первому фрейму из всех доступных видео(и трейн и тест), вырежем шлема и обучимся на самые популярные цвета - мы так делать можем, так как нигде не засвечиваем таргет. Т.е если к нам придут новые данные - мы просто переобучим k-means добавив к нему по одному новому фрейму от каждого нового видео и мы так можем сделать и это будет корректно."
      ]
    },
    {
      "cell_type": "markdown",
      "metadata": {
        "id": "JJV4bOCn8QZY"
      },
      "source": [
        "Подготовим функции для первого решения"
      ]
    },
    {
      "cell_type": "code",
      "execution_count": null,
      "metadata": {
        "id": "u_z-2WBZlj8r"
      },
      "outputs": [],
      "source": [
        "def bbox_preprocessing(bbox, image, mask, resize_shape=(27, 27)):\n",
        "    ''' Обработка  bbox для первого решения '''\n",
        "    # Обрежем картинку по bbox и сделаем resize\n",
        "    left, right = bbox['left'], bbox['left'] + bbox['width']\n",
        "    top, bottom = bbox['top'], bbox['top'] + bbox['height']\n",
        "    hemlet_bbox = A.Resize(*resize_shape)(image = image[:, left : right, top : bottom].T)['image']\n",
        "    return hemlet_bbox.reshape(-1, 3)[mask]"
      ]
    },
    {
      "cell_type": "code",
      "execution_count": null,
      "metadata": {
        "id": "EHb8wNZuPbAO"
      },
      "outputs": [],
      "source": [
        "def first_color_kmeans(num_of_colors=20, resize_shape=(27, 27)):\n",
        "    ''' Первый kmeans для кластеризации цветов '''\n",
        "    frame = 1\n",
        "    # Посчитаем маску для вырезания кружочка\n",
        "    x = np.arange(resize_shape[1]).reshape(1, -1)\n",
        "    x = np.repeat(x, resize_shape[0], axis=0)\n",
        "    y = np.arange(resize_shape[0]).reshape(-1, 1)\n",
        "    y = np.repeat(y, resize_shape[1], axis=1)\n",
        "    mask = np.square(x - 13) + np.square(y - 13) <= 13*13\n",
        "    mask = mask.reshape(-1)\n",
        "    bbox_shape = np.sum(mask)\n",
        "    # Возьмем по одному фрейму из 10 видео\n",
        "    kmeans_vector = []\n",
        "    for video_name in tqdm(names):\n",
        "      frame_data = bboxes.loc[(bboxes['video'] == video_name) & (bboxes['frame'] == frame)]\n",
        "      prefix_image_path = root + 'mp4_img/' + video_name[:-4] +  \"/\" + video_name[:-4] + '_'\n",
        "      image_path = prefix_image_path + str(frame) + '.png'\n",
        "      image = cv2.imread(image_path).T\n",
        "      \n",
        "      for _, bbox in tqdm(frame_data.iterrows()):\n",
        "          # Склеим bbox в один вектор с учетом обрезания\n",
        "          kmeans_vector.append(bbox_preprocessing(bbox, image, mask, resize_shape))\n",
        "    \n",
        "    kmeans_vector = np.array(kmeans_vector).reshape(-1, 3)\n",
        "    # Разбиваем на кластеры\n",
        "    kmeans = KMeans(n_clusters=num_of_colors)\n",
        "    kmeans.fit(kmeans_vector)\n",
        "    return kmeans, mask"
      ]
    },
    {
      "cell_type": "markdown",
      "metadata": {
        "id": "Wm_Zrrfh1XQR"
      },
      "source": [
        "Найдем центры клатеров"
      ]
    },
    {
      "cell_type": "code",
      "execution_count": null,
      "metadata": {
        "colab": {
          "base_uri": "https://localhost:8080/"
        },
        "id": "DpOiu1JLDBCl",
        "outputId": "8a765026-72e5-41be-8b48-729f8e61b229"
      },
      "outputs": [
        {
          "name": "stderr",
          "output_type": "stream",
          "text": [
            "  0%|          | 0/10 [00:00<?, ?it/s]\n",
            "20it [00:00, 2427.12it/s]\n",
            " 10%|█         | 1/10 [00:00<00:01,  8.56it/s]\n",
            "22it [00:00, 4899.11it/s]\n",
            " 20%|██        | 2/10 [00:00<00:00,  8.64it/s]\n",
            "17it [00:00, 2374.56it/s]\n",
            " 30%|███       | 3/10 [00:00<00:00,  8.42it/s]\n",
            "22it [00:00, 1965.09it/s]\n",
            " 40%|████      | 4/10 [00:00<00:00,  8.27it/s]\n",
            "18it [00:00, 2690.96it/s]\n",
            " 50%|█████     | 5/10 [00:00<00:00,  8.47it/s]\n",
            "22it [00:00, 2861.76it/s]\n",
            " 60%|██████    | 6/10 [00:00<00:00,  8.73it/s]\n",
            "15it [00:00, 3034.66it/s]\n",
            " 70%|███████   | 7/10 [00:00<00:00,  8.42it/s]\n",
            "22it [00:00, 2655.23it/s]\n",
            " 80%|████████  | 8/10 [00:00<00:00,  8.38it/s]\n",
            "17it [00:00, 2728.26it/s]\n",
            " 90%|█████████ | 9/10 [00:01<00:00,  8.48it/s]\n",
            "22it [00:00, 2787.75it/s]\n",
            "100%|██████████| 10/10 [00:01<00:00,  8.40it/s]\n"
          ]
        }
      ],
      "source": [
        "colors_clustering_kmeans, bbox_mask = first_color_kmeans()"
      ]
    },
    {
      "cell_type": "markdown",
      "metadata": {
        "id": "LtcjDdci1njL"
      },
      "source": [
        "Выведем их"
      ]
    },
    {
      "cell_type": "code",
      "execution_count": null,
      "metadata": {
        "colab": {
          "base_uri": "https://localhost:8080/",
          "height": 57
        },
        "id": "t1eRB9Ipz1y5",
        "outputId": "b77d6bd9-6d54-4095-8d6b-97d72cd9ca31"
      },
      "outputs": [
        {
          "data": {
            "image/png": "[encoded data removed]",
            "text/plain": [
              "<PIL.Image.Image image mode=RGB size=800x40 at 0x7F024CE9A4C0>"
            ]
          },
          "metadata": {},
          "output_type": "display_data"
        }
      ],
      "source": [
        "colors = np.array([])\n",
        "for i in range(20):\n",
        "  new_color = np.repeat(colors_clustering_kmeans.cluster_centers_[i].reshape(1, -1), 1600, axis=0).reshape(40, 40, 3)\n",
        "  if i == 0:\n",
        "    colors = new_color\n",
        "  else:\n",
        "    colors = np.concatenate((colors, new_color), axis=1)\n",
        "cv2_imshow(colors)"
      ]
    },
    {
      "attachments": {},
      "cell_type": "markdown",
      "metadata": {
        "id": "zplrY0cQ3EPH"
      },
      "source": [
        "Получилось что-то адекватное. Приступим ко второй части. Тут уже просто - по обученному k-means определяем для каждго пикселя его кластер - для каждой картинки шлема считаем по сколько элементов каждого кластера в него входит и затем по этим векторам разделяем шлемы на два кластера."
      ]
    },
    {
      "cell_type": "code",
      "execution_count": null,
      "metadata": {
        "id": "Cf0jPVWSBp-o"
      },
      "outputs": [],
      "source": [
        "def second_team_kmeans(video_name, frame, num_of_colors=20):\n",
        "  ''' Второй kmeans для классификации по командам '''\n",
        "  # Берем инфоормацию о нужных фреймах\n",
        "  frame_data = bboxes.loc[(bboxes['video'] == video_name) & (bboxes['frame'] == frame)]\n",
        "\n",
        "  # Считаем картинку\n",
        "  prefix_image_path = root + 'mp4_img/' + video_name[:-4] +  \"/\" + video_name[:-4] + '_'\n",
        "  image_path = prefix_image_path + str(frame) + '.png'\n",
        "  image = cv2.imread(image_path).T\n",
        "\n",
        "  # Определим истинные таргеты\n",
        "  teams = [label[0] == 'H' for label in frame_data['label']]\n",
        "  nteams = [label[0] != 'H' for label in frame_data['label']]\n",
        "\n",
        "  bbox_vectors = []\n",
        "  for _, bbox in frame_data.iterrows():\n",
        "     bbox_vectors.append(bbox_preprocessing(bbox, image, bbox_mask))\n",
        "\n",
        "  # Разобьем на кластеры по цветам\n",
        "  kmeans_vector = np.array(bbox_vectors).reshape(-1, 3)\n",
        "  y_pred = colors_clustering_kmeans.predict(kmeans_vector)\n",
        "  y_pred = y_pred.reshape(y_pred.shape[0]//np.sum(bbox_mask), np.sum(bbox_mask))\n",
        "\n",
        "  # Получим нужное представление bbox\n",
        "  add_clases = np.arange(num_of_colors)\n",
        "  add_clases = np.repeat(add_clases.reshape(1, -1), y_pred.shape[0], axis=0)\n",
        "  new_y_pred = np.concatenate((y_pred, add_clases), axis=1)\n",
        "  counts = np.array( [np.unique(new_y_pred[i], axis=0, return_counts=True)[1] for i in range(new_y_pred.shape[0]) ])\n",
        "  counts = counts - 1\n",
        "  \n",
        "  # Классифицируем на две команды\n",
        "  kmeans_teams = KMeans(n_clusters=2)\n",
        "  kmeans_teams.fit(counts)\n",
        "  predicted_teams = kmeans_teams.predict(counts)\n",
        "\n",
        "  return max(accuracy_score(teams, predicted_teams), accuracy_score(nteams, predicted_teams))"
      ]
    },
    {
      "cell_type": "code",
      "execution_count": null,
      "metadata": {
        "id": "z8KatRD6_wxH"
      },
      "outputs": [],
      "source": [
        "def solution_accuracy(frame_accuracy, video_name):\n",
        "  ''' Подсчет точности решений '''\n",
        "  video_data = bboxes.loc[bboxes['video'] == video_name]\n",
        "  frames = np.unique(video_data['frame'])\n",
        "  sum_accuracy = 0\n",
        "  cnt = 0\n",
        "  for frame in tqdm(frames):\n",
        "    try:\n",
        "      fr_acc = frame_accuracy(video_name, frame)\n",
        "      sum_accuracy += fr_acc\n",
        "      cnt += 1\n",
        "    except:\n",
        "      continue\n",
        "  return sum_accuracy/cnt"
      ]
    },
    {
      "cell_type": "markdown",
      "metadata": {
        "id": "_TydsDRbnwlj"
      },
      "source": [
        "Применим это решение к нашим данным."
      ]
    },
    {
      "cell_type": "code",
      "execution_count": null,
      "metadata": {
        "colab": {
          "base_uri": "https://localhost:8080/",
          "height": 529
        },
        "id": "yhnfglmiIeYk",
        "outputId": "cd41d400-0165-453a-c010-63ca6dab3d6b"
      },
      "outputs": [
        {
          "name": "stderr",
          "output_type": "stream",
          "text": [
            "100%|██████████| 472/472 [01:08<00:00,  6.89it/s]\n",
            "100%|██████████| 471/471 [01:08<00:00,  6.85it/s]\n",
            "100%|██████████| 615/615 [01:26<00:00,  7.07it/s]\n",
            "100%|██████████| 617/617 [04:00<00:00,  2.56it/s]\n",
            "100%|██████████| 421/421 [02:48<00:00,  2.50it/s]\n",
            "100%|██████████| 421/421 [02:46<00:00,  2.52it/s]\n",
            "100%|██████████| 492/492 [03:15<00:00,  2.52it/s]\n",
            "100%|██████████| 492/492 [03:38<00:00,  2.25it/s]\n",
            "100%|██████████| 474/474 [03:30<00:00,  2.25it/s]\n",
            "100%|██████████| 474/474 [03:21<00:00,  2.35it/s]\n"
          ]
        },
        {
          "data": {
            "text/html": [
              "\n",
              "  <div id=\"df-ee0a408b-b1a7-4ba2-bb8e-c4650ef4446c\">\n",
              "    <div class=\"colab-df-container\">\n",
              "      <div>\n",
              "<style scoped>\n",
              "    .dataframe tbody tr th:only-of-type {\n",
              "        vertical-align: middle;\n",
              "    }\n",
              "\n",
              "    .dataframe tbody tr th {\n",
              "        vertical-align: top;\n",
              "    }\n",
              "\n",
              "    .dataframe thead th {\n",
              "        text-align: right;\n",
              "    }\n",
              "</style>\n",
              "<table border=\"1\" class=\"dataframe\">\n",
              "  <thead>\n",
              "    <tr style=\"text-align: right;\">\n",
              "      <th></th>\n",
              "      <th>Video</th>\n",
              "      <th>accuracy</th>\n",
              "    </tr>\n",
              "  </thead>\n",
              "  <tbody>\n",
              "    <tr>\n",
              "      <th>0</th>\n",
              "      <td>57583_000082_Endzone.mp4</td>\n",
              "      <td>0.997</td>\n",
              "    </tr>\n",
              "    <tr>\n",
              "      <th>1</th>\n",
              "      <td>57583_000082_Sideline.mp4</td>\n",
              "      <td>0.993</td>\n",
              "    </tr>\n",
              "    <tr>\n",
              "      <th>2</th>\n",
              "      <td>57584_000336_Endzone.mp4</td>\n",
              "      <td>0.959</td>\n",
              "    </tr>\n",
              "    <tr>\n",
              "      <th>3</th>\n",
              "      <td>57584_000336_Sideline.mp4</td>\n",
              "      <td>0.976</td>\n",
              "    </tr>\n",
              "    <tr>\n",
              "      <th>4</th>\n",
              "      <td>57584_002674_Endzone.mp4</td>\n",
              "      <td>0.988</td>\n",
              "    </tr>\n",
              "    <tr>\n",
              "      <th>5</th>\n",
              "      <td>57584_002674_Sideline.mp4</td>\n",
              "      <td>0.981</td>\n",
              "    </tr>\n",
              "    <tr>\n",
              "      <th>6</th>\n",
              "      <td>57586_000540_Endzone.mp4</td>\n",
              "      <td>0.978</td>\n",
              "    </tr>\n",
              "    <tr>\n",
              "      <th>7</th>\n",
              "      <td>57586_000540_Sideline.mp4</td>\n",
              "      <td>0.994</td>\n",
              "    </tr>\n",
              "    <tr>\n",
              "      <th>8</th>\n",
              "      <td>57586_001934_Endzone.mp4</td>\n",
              "      <td>0.989</td>\n",
              "    </tr>\n",
              "    <tr>\n",
              "      <th>9</th>\n",
              "      <td>57586_001934_Sideline.mp4</td>\n",
              "      <td>0.991</td>\n",
              "    </tr>\n",
              "  </tbody>\n",
              "</table>\n",
              "</div>\n",
              "      <button class=\"colab-df-convert\" onclick=\"convertToInteractive('df-ee0a408b-b1a7-4ba2-bb8e-c4650ef4446c')\"\n",
              "              title=\"Convert this dataframe to an interactive table.\"\n",
              "              style=\"display:none;\">\n",
              "        \n",
              "  <svg xmlns=\"http://www.w3.org/2000/svg\" height=\"24px\"viewBox=\"0 0 24 24\"\n",
              "       width=\"24px\">\n",
              "    <path d=\"M0 0h24v24H0V0z\" fill=\"none\"/>\n",
              "    <path d=\"M18.56 5.44l.94 2.06.94-2.06 2.06-.94-2.06-.94-.94-2.06-.94 2.06-2.06.94zm-11 1L8.5 8.5l.94-2.06 2.06-.94-2.06-.94L8.5 2.5l-.94 2.06-2.06.94zm10 10l.94 2.06.94-2.06 2.06-.94-2.06-.94-.94-2.06-.94 2.06-2.06.94z\"/><path d=\"M17.41 7.96l-1.37-1.37c-.4-.4-.92-.59-1.43-.59-.52 0-1.04.2-1.43.59L10.3 9.45l-7.72 7.72c-.78.78-.78 2.05 0 2.83L4 21.41c.39.39.9.59 1.41.59.51 0 1.02-.2 1.41-.59l7.78-7.78 2.81-2.81c.8-.78.8-2.07 0-2.86zM5.41 20L4 18.59l7.72-7.72 1.47 1.35L5.41 20z\"/>\n",
              "  </svg>\n",
              "      </button>\n",
              "      \n",
              "  <style>\n",
              "    .colab-df-container {\n",
              "      display:flex;\n",
              "      flex-wrap:wrap;\n",
              "      gap: 12px;\n",
              "    }\n",
              "\n",
              "    .colab-df-convert {\n",
              "      background-color: #E8F0FE;\n",
              "      border: none;\n",
              "      border-radius: 50%;\n",
              "      cursor: pointer;\n",
              "      display: none;\n",
              "      fill: #1967D2;\n",
              "      height: 32px;\n",
              "      padding: 0 0 0 0;\n",
              "      width: 32px;\n",
              "    }\n",
              "\n",
              "    .colab-df-convert:hover {\n",
              "      background-color: #E2EBFA;\n",
              "      box-shadow: 0px 1px 2px rgba(60, 64, 67, 0.3), 0px 1px 3px 1px rgba(60, 64, 67, 0.15);\n",
              "      fill: #174EA6;\n",
              "    }\n",
              "\n",
              "    [theme=dark] .colab-df-convert {\n",
              "      background-color: #3B4455;\n",
              "      fill: #D2E3FC;\n",
              "    }\n",
              "\n",
              "    [theme=dark] .colab-df-convert:hover {\n",
              "      background-color: #434B5C;\n",
              "      box-shadow: 0px 1px 3px 1px rgba(0, 0, 0, 0.15);\n",
              "      filter: drop-shadow(0px 1px 2px rgba(0, 0, 0, 0.3));\n",
              "      fill: #FFFFFF;\n",
              "    }\n",
              "  </style>\n",
              "\n",
              "      <script>\n",
              "        const buttonEl =\n",
              "          document.querySelector('#df-ee0a408b-b1a7-4ba2-bb8e-c4650ef4446c button.colab-df-convert');\n",
              "        buttonEl.style.display =\n",
              "          google.colab.kernel.accessAllowed ? 'block' : 'none';\n",
              "\n",
              "        async function convertToInteractive(key) {\n",
              "          const element = document.querySelector('#df-ee0a408b-b1a7-4ba2-bb8e-c4650ef4446c');\n",
              "          const dataTable =\n",
              "            await google.colab.kernel.invokeFunction('convertToInteractive',\n",
              "                                                     [key], {});\n",
              "          if (!dataTable) return;\n",
              "\n",
              "          const docLinkHtml = 'Like what you see? Visit the ' +\n",
              "            '<a target=\"_blank\" href=https://colab.research.google.com/notebooks/data_table.ipynb>data table notebook</a>'\n",
              "            + ' to learn more about interactive tables.';\n",
              "          element.innerHTML = '';\n",
              "          dataTable['output_type'] = 'display_data';\n",
              "          await google.colab.output.renderOutput(dataTable, element);\n",
              "          const docLink = document.createElement('div');\n",
              "          docLink.innerHTML = docLinkHtml;\n",
              "          element.appendChild(docLink);\n",
              "        }\n",
              "      </script>\n",
              "    </div>\n",
              "  </div>\n",
              "  "
            ],
            "text/plain": [
              "                       Video  accuracy\n",
              "0   57583_000082_Endzone.mp4     0.997\n",
              "1  57583_000082_Sideline.mp4     0.993\n",
              "2   57584_000336_Endzone.mp4     0.959\n",
              "3  57584_000336_Sideline.mp4     0.976\n",
              "4   57584_002674_Endzone.mp4     0.988\n",
              "5  57584_002674_Sideline.mp4     0.981\n",
              "6   57586_000540_Endzone.mp4     0.978\n",
              "7  57586_000540_Sideline.mp4     0.994\n",
              "8   57586_001934_Endzone.mp4     0.989\n",
              "9  57586_001934_Sideline.mp4     0.991"
            ]
          },
          "execution_count": 143,
          "metadata": {},
          "output_type": "execute_result"
        }
      ],
      "source": [
        "result_first = pd.DataFrame()\n",
        "for video in names:\n",
        "    acc = solution_accuracy(second_team_kmeans, video)\n",
        "    result_first = result_first.append({'Video': video, 'accuracy': np.round(acc, 3)}, ignore_index=True)\n",
        "result_first"
      ]
    },
    {
      "cell_type": "markdown",
      "metadata": {
        "id": "5T5137_k9NMv"
      },
      "source": [
        "**Вывод:** Как мы видим получилось очень хорошее качество "
      ]
    },
    {
      "attachments": {},
      "cell_type": "markdown",
      "metadata": {
        "id": "V6yEXORow6SQ"
      },
      "source": [
        "**Второй метод**"
      ]
    },
    {
      "attachments": {},
      "cell_type": "markdown",
      "metadata": {
        "id": "lk0GT8Hjn5us"
      },
      "source": [
        "С этим решением уже все сложнее, так как нам необходим все-таки трейн. \n",
        "\n",
        "Здесь мы обучаем нейроку, чтобы она хорошо преобразовывала картинку со шлемом в признаквое описание, так чтобы скалярное произведение полученных векторов после дальнейшего применения софтмакса, хорошо приближало матрицу смежности. Затем с помощью Агломеративной кластеризации разделим полученные векторы на два класса.  Напишем функции для этого решения."
      ]
    },
    {
      "cell_type": "code",
      "execution_count": null,
      "metadata": {
        "id": "T5gaOmWDDvrc"
      },
      "outputs": [],
      "source": [
        "def team_assignment(distances):\n",
        "    ''' Функция деления по командам с кластеризацией '''\n",
        "    hier = AgglomerativeClustering(n_clusters=2)\n",
        "    hier.fit(distances)\n",
        "    predicted_teams = hier.labels_\n",
        "    return predicted_teams"
      ]
    },
    {
      "cell_type": "code",
      "execution_count": null,
      "metadata": {
        "id": "f1nr26nNaIig"
      },
      "outputs": [],
      "source": [
        "class SecondSolutionModel(nn.Module):\n",
        "  ''' Модель FeatureExtractor для второго решения '''\n",
        "  def __init__(self, model):\n",
        "    super(SecondSolutionModel, self).__init__()\n",
        "    self.res = torch.nn.Sequential(*(list(model.children())[:-1]))\n",
        "\n",
        "  def forward(self, video_name, frame, return_target, resize_shape=(60, 60)):\n",
        "    ''' forward модели '''\n",
        "    # Берем инфоормацию о нужных фреймах\n",
        "    frame_data = bboxes.loc[(bboxes['video'] == video_name) & (bboxes['frame'] == frame)]\n",
        "\n",
        "    # Считаем картинку\n",
        "    prefix_image_path = root + 'mp4_img/' + video_name[:-4] +  \"/\" + video_name[:-4] + '_'\n",
        "    image_path = prefix_image_path + str(frame) + '.png'\n",
        "    image = cv2.imread(image_path).T\n",
        "\n",
        "    predicted_vectors = []\n",
        "    for _, bbox in frame_data.iterrows():\n",
        "      # Обрежем картинку по bbox и сделаем resize\n",
        "      left, right = bbox['left']- bbox['width'], bbox['left'] + 2*bbox['width']\n",
        "      top, bottom = bbox['top']-bbox['height'], bbox['top'] + 2*bbox['height']\n",
        "      hemlet_bbox = A.Resize(*resize_shape)(image = image[:, left : right, top : bottom].T)['image']\n",
        "      # Сделаем Feature Extractor\n",
        "      predicted_vectors.append(self.res(torch.FloatTensor(hemlet_bbox.T).unsqueeze(0).to(device)).squeeze(-1).squeeze(-1))\n",
        "\n",
        "    matrix = torch.concatenate(predicted_vectors)\n",
        "    predicted = matrix @ matrix.T\n",
        "\n",
        "    if not return_target:\n",
        "      return predicted\n",
        "\n",
        "    # Истинная матрица смежности\n",
        "    teams = [label[0] == 'H' for label in frame_data['label']]\n",
        "    nteams = [label[0] != 'H' for label in frame_data['label']]\n",
        "    target = torch.FloatTensor(np.array(teams).reshape(-1,1) == np.array(teams).reshape(1,-1)).to(device)\n",
        "\n",
        "    return predicted, target, teams, nteams"
      ]
    },
    {
      "cell_type": "code",
      "execution_count": null,
      "metadata": {
        "id": "5FtbPkfjfZX1"
      },
      "outputs": [],
      "source": [
        "def train_loop(model, optimizer, loss_function, num_epochs, train_data, test_video_names, grad_acc_step = 4):\n",
        "    ''' Цикл обучения '''\n",
        "    cnt = 0\n",
        "    for epoch in range(num_epochs):\n",
        "        start_time = time.time()  \n",
        "        # Обучение модели\n",
        "        model.train(True)\n",
        "        train_loss = []\n",
        "        train_accuracy = []\n",
        "        for idx in tqdm(train_data.index):\n",
        "            try:\n",
        "                video_name, frame = train_data.iloc[idx]\n",
        "                logits, target, teams, nteams = model(video_name, frame, True)\n",
        "                loss = loss_function(logits.view(-1), target.view(-1))\n",
        "                loss.backward()\n",
        "                cnt += 1\n",
        "                if cnt == grad_acc_step:\n",
        "                  optimizer.step()\n",
        "                  optimizer.zero_grad()\n",
        "                  cnt = 0\n",
        "                train_loss.append(loss.cpu().data.numpy())\n",
        "                # Подсчет точности на трейне\n",
        "                predicted_teams = team_assignment(logits.detach().cpu().numpy())\n",
        "                acc = max(accuracy_score(teams, predicted_teams), accuracy_score(nteams, predicted_teams))\n",
        "                train_accuracy.append(acc)\n",
        "            except:\n",
        "                optimizer.zero_grad()\n",
        "                continue\n",
        "\n",
        "        # Подсчет точности на валидации(только на 20 первых фреймах)\n",
        "        model.train(False)\n",
        "        val_accuracy = []\n",
        "        for video_name in tqdm(test_video_names):\n",
        "            video_data = bboxes.loc[bboxes['video'] == video_name]\n",
        "            frames = np.unique(video_data['frame'])\n",
        "            for frame in frames:\n",
        "                try:\n",
        "                    logits, _, teams, nteams = model(video_name, frame, True)\n",
        "                    predicted_teams = team_assignment(logits.detach().cpu().numpy())\n",
        "                    acc = max(accuracy_score(teams, predicted_teams), accuracy_score(nteams, predicted_teams))\n",
        "                    val_accuracy.append(acc)\n",
        "                except:\n",
        "                   continue\n",
        "        # Вывод лосса и качества \n",
        "        print(\"Epoch {} of {} took {:.3f}s\".format(\n",
        "            epoch + 1, num_epochs, time.time() - start_time))\n",
        "        print(\"  training loss (in-iteration): \\t{:.6f}\".format(\n",
        "            np.mean(train_loss)))\n",
        "        print(\"  training accuracy: \\t\\t\\t{:.2f} %\".format(\n",
        "            np.mean(train_accuracy) * 100))\n",
        "        print(\"  validation accuracy: \\t\\t\\t{:.2f} %\".format(\n",
        "            np.mean(val_accuracy) * 100))"
      ]
    },
    {
      "cell_type": "markdown",
      "metadata": {
        "id": "S0H6-fDopWdS"
      },
      "source": [
        "Теперь подготовим данные для обучения. В качестве обучения с трейновых видео возьмем не все фреймы, а только их часть."
      ]
    },
    {
      "cell_type": "code",
      "execution_count": null,
      "metadata": {
        "id": "EnDyKZBdsYJy"
      },
      "outputs": [],
      "source": [
        "train_video_names = pd.DataFrame(names[:6])\n",
        "test_video_names = names[-4:]\n",
        "num_rows = 50\n",
        "frames = pd.DataFrame(np.arange(0, 2 * num_rows, 2))\n",
        "train_data = train_video_names.merge(frames, how='cross').iloc[np.random.permutation(6*num_rows)].reset_index()\n",
        "train_data.drop(columns=['index'], inplace=True)"
      ]
    },
    {
      "cell_type": "markdown",
      "metadata": {
        "id": "sAQwy9HHpoGT"
      },
      "source": [
        "Обучим модель."
      ]
    },
    {
      "cell_type": "code",
      "execution_count": null,
      "metadata": {
        "colab": {
          "base_uri": "https://localhost:8080/"
        },
        "id": "9VI6XHANqk28",
        "outputId": "7736bc45-58bb-4172-f0f3-729caaa116ab"
      },
      "outputs": [
        {
          "name": "stderr",
          "output_type": "stream",
          "text": [
            "100%|██████████| 300/300 [01:20<00:00,  3.72it/s]\n",
            "100%|██████████| 4/4 [00:14<00:00,  3.62s/it]\n"
          ]
        },
        {
          "name": "stdout",
          "output_type": "stream",
          "text": [
            "Epoch 1 of 10 took 95.205s\n",
            "  training loss (in-iteration): \t24.639553\n",
            "  training accuracy: \t\t\t64.38 %\n",
            "  validation accuracy: \t\t\t81.91 %\n"
          ]
        },
        {
          "name": "stderr",
          "output_type": "stream",
          "text": [
            "100%|██████████| 300/300 [01:18<00:00,  3.84it/s]\n",
            "100%|██████████| 4/4 [00:13<00:00,  3.48s/it]\n"
          ]
        },
        {
          "name": "stdout",
          "output_type": "stream",
          "text": [
            "Epoch 2 of 10 took 91.976s\n",
            "  training loss (in-iteration): \t0.693132\n",
            "  training accuracy: \t\t\t61.82 %\n",
            "  validation accuracy: \t\t\t74.79 %\n"
          ]
        },
        {
          "name": "stderr",
          "output_type": "stream",
          "text": [
            "100%|██████████| 300/300 [01:19<00:00,  3.79it/s]\n",
            "100%|██████████| 4/4 [00:14<00:00,  3.51s/it]\n"
          ]
        },
        {
          "name": "stdout",
          "output_type": "stream",
          "text": [
            "Epoch 3 of 10 took 93.238s\n",
            "  training loss (in-iteration): \t0.693028\n",
            "  training accuracy: \t\t\t73.20 %\n",
            "  validation accuracy: \t\t\t79.03 %\n"
          ]
        },
        {
          "name": "stderr",
          "output_type": "stream",
          "text": [
            "100%|██████████| 300/300 [01:16<00:00,  3.90it/s]\n",
            "100%|██████████| 4/4 [00:14<00:00,  3.57s/it]\n"
          ]
        },
        {
          "name": "stdout",
          "output_type": "stream",
          "text": [
            "Epoch 4 of 10 took 91.268s\n",
            "  training loss (in-iteration): \t0.634768\n",
            "  training accuracy: \t\t\t90.89 %\n",
            "  validation accuracy: \t\t\t74.57 %\n"
          ]
        },
        {
          "name": "stderr",
          "output_type": "stream",
          "text": [
            "100%|██████████| 300/300 [01:18<00:00,  3.85it/s]\n",
            "100%|██████████| 4/4 [00:13<00:00,  3.50s/it]\n"
          ]
        },
        {
          "name": "stdout",
          "output_type": "stream",
          "text": [
            "Epoch 5 of 10 took 92.023s\n",
            "  training loss (in-iteration): \t0.425099\n",
            "  training accuracy: \t\t\t97.71 %\n",
            "  validation accuracy: \t\t\t92.55 %\n"
          ]
        },
        {
          "name": "stderr",
          "output_type": "stream",
          "text": [
            "100%|██████████| 300/300 [01:17<00:00,  3.87it/s]\n",
            "100%|██████████| 4/4 [00:13<00:00,  3.47s/it]\n"
          ]
        },
        {
          "name": "stdout",
          "output_type": "stream",
          "text": [
            "Epoch 6 of 10 took 91.493s\n",
            "  training loss (in-iteration): \t0.376963\n",
            "  training accuracy: \t\t\t99.18 %\n",
            "  validation accuracy: \t\t\t92.10 %\n"
          ]
        },
        {
          "name": "stderr",
          "output_type": "stream",
          "text": [
            "100%|██████████| 300/300 [01:19<00:00,  3.78it/s]\n",
            "100%|██████████| 4/4 [00:13<00:00,  3.49s/it]\n"
          ]
        },
        {
          "name": "stdout",
          "output_type": "stream",
          "text": [
            "Epoch 7 of 10 took 93.437s\n",
            "  training loss (in-iteration): \t0.368513\n",
            "  training accuracy: \t\t\t99.45 %\n",
            "  validation accuracy: \t\t\t95.00 %\n"
          ]
        },
        {
          "name": "stderr",
          "output_type": "stream",
          "text": [
            "100%|██████████| 300/300 [01:16<00:00,  3.90it/s]\n",
            "100%|██████████| 4/4 [00:14<00:00,  3.59s/it]\n"
          ]
        },
        {
          "name": "stdout",
          "output_type": "stream",
          "text": [
            "Epoch 8 of 10 took 91.233s\n",
            "  training loss (in-iteration): \t0.362178\n",
            "  training accuracy: \t\t\t99.61 %\n",
            "  validation accuracy: \t\t\t93.99 %\n"
          ]
        },
        {
          "name": "stderr",
          "output_type": "stream",
          "text": [
            "100%|██████████| 300/300 [01:18<00:00,  3.85it/s]\n",
            "100%|██████████| 4/4 [00:13<00:00,  3.48s/it]\n"
          ]
        },
        {
          "name": "stdout",
          "output_type": "stream",
          "text": [
            "Epoch 9 of 10 took 91.942s\n",
            "  training loss (in-iteration): \t0.356728\n",
            "  training accuracy: \t\t\t99.79 %\n",
            "  validation accuracy: \t\t\t95.55 %\n"
          ]
        },
        {
          "name": "stderr",
          "output_type": "stream",
          "text": [
            "100%|██████████| 300/300 [01:17<00:00,  3.89it/s]\n",
            "100%|██████████| 4/4 [00:14<00:00,  3.52s/it]"
          ]
        },
        {
          "name": "stdout",
          "output_type": "stream",
          "text": [
            "Epoch 10 of 10 took 91.213s\n",
            "  training loss (in-iteration): \t0.364802\n",
            "  training accuracy: \t\t\t99.56 %\n",
            "  validation accuracy: \t\t\t95.26 %\n"
          ]
        },
        {
          "name": "stderr",
          "output_type": "stream",
          "text": [
            "\n"
          ]
        }
      ],
      "source": [
        "device = torch.device('cuda' if torch.cuda.is_available() else 'cpu')\n",
        "back = resnet18(weights=tm.ResNet18_Weights.IMAGENET1K_V1)\n",
        "model = SecondSolutionModel(back).to(device)\n",
        "loss = torch.nn.BCEWithLogitsLoss()\n",
        "opt = torch.optim.Adam(model.parameters(), lr=5e-2)\n",
        "train_loop(model, opt, loss, 10, train_data, test_video_names)"
      ]
    },
    {
      "cell_type": "code",
      "execution_count": null,
      "metadata": {
        "id": "CUR3vKvDycWp"
      },
      "outputs": [],
      "source": [
        "def frame_accuracy_second_solution(video_name, frame, resize_shape = (60, 60)):\n",
        "  ''' Реализация второго метода решения '''\n",
        "  model.eval()\n",
        "  logits, _, teams, nteams = model(video_name, frame, True)\n",
        "  predicted_teams = team_assignment(logits.detach().cpu().numpy())\n",
        "  return max(accuracy_score(teams, predicted_teams), accuracy_score(nteams, predicted_teams))"
      ]
    },
    {
      "cell_type": "markdown",
      "metadata": {
        "id": "WNsFWmAWp7Hp"
      },
      "source": [
        "Применим второе решение."
      ]
    },
    {
      "cell_type": "code",
      "execution_count": null,
      "metadata": {
        "colab": {
          "base_uri": "https://localhost:8080/",
          "height": 545
        },
        "id": "E2CwY1p2_S2z",
        "outputId": "fd4582f2-9772-4b6f-90d9-27ef7f057e1a"
      },
      "outputs": [
        {
          "name": "stderr",
          "output_type": "stream",
          "text": [
            "100%|██████████| 472/472 [01:09<00:00,  6.78it/s]\n",
            "100%|██████████| 471/471 [12:44<00:00,  1.62s/it]\n",
            "100%|██████████| 615/615 [14:47<00:00,  1.44s/it]\n",
            "100%|██████████| 617/617 [14:36<00:00,  1.42s/it]\n",
            "100%|██████████| 421/421 [10:46<00:00,  1.54s/it]\n",
            "100%|██████████| 421/421 [10:15<00:00,  1.46s/it]\n",
            "100%|██████████| 492/492 [13:48<00:00,  1.68s/it]\n",
            "100%|██████████| 492/492 [13:58<00:00,  1.70s/it]\n",
            "100%|██████████| 474/474 [13:38<00:00,  1.73s/it]\n",
            "100%|██████████| 474/474 [12:32<00:00,  1.59s/it]\n"
          ]
        },
        {
          "data": {
            "text/html": [
              "\n",
              "  <div id=\"df-1af7948f-65f8-47b0-8be8-2994284da8f0\">\n",
              "    <div class=\"colab-df-container\">\n",
              "      <div>\n",
              "<style scoped>\n",
              "    .dataframe tbody tr th:only-of-type {\n",
              "        vertical-align: middle;\n",
              "    }\n",
              "\n",
              "    .dataframe tbody tr th {\n",
              "        vertical-align: top;\n",
              "    }\n",
              "\n",
              "    .dataframe thead th {\n",
              "        text-align: right;\n",
              "    }\n",
              "</style>\n",
              "<table border=\"1\" class=\"dataframe\">\n",
              "  <thead>\n",
              "    <tr style=\"text-align: right;\">\n",
              "      <th></th>\n",
              "      <th>Video</th>\n",
              "      <th>accuracy</th>\n",
              "    </tr>\n",
              "  </thead>\n",
              "  <tbody>\n",
              "    <tr>\n",
              "      <th>0</th>\n",
              "      <td>57583_000082_Endzone.mp4</td>\n",
              "      <td>0.994</td>\n",
              "    </tr>\n",
              "    <tr>\n",
              "      <th>1</th>\n",
              "      <td>57583_000082_Sideline.mp4</td>\n",
              "      <td>0.966</td>\n",
              "    </tr>\n",
              "    <tr>\n",
              "      <th>2</th>\n",
              "      <td>57584_000336_Endzone.mp4</td>\n",
              "      <td>0.944</td>\n",
              "    </tr>\n",
              "    <tr>\n",
              "      <th>3</th>\n",
              "      <td>57584_000336_Sideline.mp4</td>\n",
              "      <td>0.917</td>\n",
              "    </tr>\n",
              "    <tr>\n",
              "      <th>4</th>\n",
              "      <td>57584_002674_Endzone.mp4</td>\n",
              "      <td>0.988</td>\n",
              "    </tr>\n",
              "    <tr>\n",
              "      <th>5</th>\n",
              "      <td>57584_002674_Sideline.mp4</td>\n",
              "      <td>0.964</td>\n",
              "    </tr>\n",
              "    <tr>\n",
              "      <th>6</th>\n",
              "      <td>57586_000540_Endzone.mp4</td>\n",
              "      <td>0.919</td>\n",
              "    </tr>\n",
              "    <tr>\n",
              "      <th>7</th>\n",
              "      <td>57586_000540_Sideline.mp4</td>\n",
              "      <td>0.879</td>\n",
              "    </tr>\n",
              "    <tr>\n",
              "      <th>8</th>\n",
              "      <td>57586_001934_Endzone.mp4</td>\n",
              "      <td>0.984</td>\n",
              "    </tr>\n",
              "    <tr>\n",
              "      <th>9</th>\n",
              "      <td>57586_001934_Sideline.mp4</td>\n",
              "      <td>0.909</td>\n",
              "    </tr>\n",
              "  </tbody>\n",
              "</table>\n",
              "</div>\n",
              "      <button class=\"colab-df-convert\" onclick=\"convertToInteractive('df-1af7948f-65f8-47b0-8be8-2994284da8f0')\"\n",
              "              title=\"Convert this dataframe to an interactive table.\"\n",
              "              style=\"display:none;\">\n",
              "        \n",
              "  <svg xmlns=\"http://www.w3.org/2000/svg\" height=\"24px\"viewBox=\"0 0 24 24\"\n",
              "       width=\"24px\">\n",
              "    <path d=\"M0 0h24v24H0V0z\" fill=\"none\"/>\n",
              "    <path d=\"M18.56 5.44l.94 2.06.94-2.06 2.06-.94-2.06-.94-.94-2.06-.94 2.06-2.06.94zm-11 1L8.5 8.5l.94-2.06 2.06-.94-2.06-.94L8.5 2.5l-.94 2.06-2.06.94zm10 10l.94 2.06.94-2.06 2.06-.94-2.06-.94-.94-2.06-.94 2.06-2.06.94z\"/><path d=\"M17.41 7.96l-1.37-1.37c-.4-.4-.92-.59-1.43-.59-.52 0-1.04.2-1.43.59L10.3 9.45l-7.72 7.72c-.78.78-.78 2.05 0 2.83L4 21.41c.39.39.9.59 1.41.59.51 0 1.02-.2 1.41-.59l7.78-7.78 2.81-2.81c.8-.78.8-2.07 0-2.86zM5.41 20L4 18.59l7.72-7.72 1.47 1.35L5.41 20z\"/>\n",
              "  </svg>\n",
              "      </button>\n",
              "      \n",
              "  <style>\n",
              "    .colab-df-container {\n",
              "      display:flex;\n",
              "      flex-wrap:wrap;\n",
              "      gap: 12px;\n",
              "    }\n",
              "\n",
              "    .colab-df-convert {\n",
              "      background-color: #E8F0FE;\n",
              "      border: none;\n",
              "      border-radius: 50%;\n",
              "      cursor: pointer;\n",
              "      display: none;\n",
              "      fill: #1967D2;\n",
              "      height: 32px;\n",
              "      padding: 0 0 0 0;\n",
              "      width: 32px;\n",
              "    }\n",
              "\n",
              "    .colab-df-convert:hover {\n",
              "      background-color: #E2EBFA;\n",
              "      box-shadow: 0px 1px 2px rgba(60, 64, 67, 0.3), 0px 1px 3px 1px rgba(60, 64, 67, 0.15);\n",
              "      fill: #174EA6;\n",
              "    }\n",
              "\n",
              "    [theme=dark] .colab-df-convert {\n",
              "      background-color: #3B4455;\n",
              "      fill: #D2E3FC;\n",
              "    }\n",
              "\n",
              "    [theme=dark] .colab-df-convert:hover {\n",
              "      background-color: #434B5C;\n",
              "      box-shadow: 0px 1px 3px 1px rgba(0, 0, 0, 0.15);\n",
              "      filter: drop-shadow(0px 1px 2px rgba(0, 0, 0, 0.3));\n",
              "      fill: #FFFFFF;\n",
              "    }\n",
              "  </style>\n",
              "\n",
              "      <script>\n",
              "        const buttonEl =\n",
              "          document.querySelector('#df-1af7948f-65f8-47b0-8be8-2994284da8f0 button.colab-df-convert');\n",
              "        buttonEl.style.display =\n",
              "          google.colab.kernel.accessAllowed ? 'block' : 'none';\n",
              "\n",
              "        async function convertToInteractive(key) {\n",
              "          const element = document.querySelector('#df-1af7948f-65f8-47b0-8be8-2994284da8f0');\n",
              "          const dataTable =\n",
              "            await google.colab.kernel.invokeFunction('convertToInteractive',\n",
              "                                                     [key], {});\n",
              "          if (!dataTable) return;\n",
              "\n",
              "          const docLinkHtml = 'Like what you see? Visit the ' +\n",
              "            '<a target=\"_blank\" href=https://colab.research.google.com/notebooks/data_table.ipynb>data table notebook</a>'\n",
              "            + ' to learn more about interactive tables.';\n",
              "          element.innerHTML = '';\n",
              "          dataTable['output_type'] = 'display_data';\n",
              "          await google.colab.output.renderOutput(dataTable, element);\n",
              "          const docLink = document.createElement('div');\n",
              "          docLink.innerHTML = docLinkHtml;\n",
              "          element.appendChild(docLink);\n",
              "        }\n",
              "      </script>\n",
              "    </div>\n",
              "  </div>\n",
              "  "
            ],
            "text/plain": [
              "                       Video  accuracy\n",
              "0   57583_000082_Endzone.mp4     0.994\n",
              "1  57583_000082_Sideline.mp4     0.966\n",
              "2   57584_000336_Endzone.mp4     0.944\n",
              "3  57584_000336_Sideline.mp4     0.917\n",
              "4   57584_002674_Endzone.mp4     0.988\n",
              "5  57584_002674_Sideline.mp4     0.964\n",
              "6   57586_000540_Endzone.mp4     0.919\n",
              "7  57586_000540_Sideline.mp4     0.879\n",
              "8   57586_001934_Endzone.mp4     0.984\n",
              "9  57586_001934_Sideline.mp4     0.909"
            ]
          },
          "execution_count": 36,
          "metadata": {},
          "output_type": "execute_result"
        }
      ],
      "source": [
        "result_first = pd.DataFrame()\n",
        "for video in names:\n",
        "    acc = solution_accuracy(frame_accuracy_second_solution, video)\n",
        "    result_first = result_first.append({'Video': video, 'accuracy': np.round(acc, 3)}, ignore_index=True)\n",
        "result_first"
      ]
    },
    {
      "cell_type": "markdown",
      "metadata": {
        "id": "TyV6Ucl_qIgY"
      },
      "source": [
        "**Вывод:** Как мы видим качество все так же не плохое."
      ]
    },
    {
      "cell_type": "markdown",
      "metadata": {
        "id": "mYnrInW9q1od"
      },
      "source": [
        "Теперь сравним результаты."
      ]
    },
    {
      "cell_type": "code",
      "execution_count": 8,
      "metadata": {
        "colab": {
          "base_uri": "https://localhost:8080/",
          "height": 393
        },
        "id": "Nbra-32TuwJS",
        "outputId": "27bc2e4e-9d28-4d09-9295-d54da63846d7"
      },
      "outputs": [
        {
          "name": "stdout",
          "output_type": "stream",
          "text": [
            "Среднее на тесте на первом решении:  0.988\n",
            "Среднее на тесте на втором решении:  0.92275\n"
          ]
        },
        {
          "data": {
            "text/html": [
              "\n",
              "  <div id=\"df-321d3963-8b08-4e7e-b6b8-1f138a159d39\">\n",
              "    <div class=\"colab-df-container\">\n",
              "      <div>\n",
              "<style scoped>\n",
              "    .dataframe tbody tr th:only-of-type {\n",
              "        vertical-align: middle;\n",
              "    }\n",
              "\n",
              "    .dataframe tbody tr th {\n",
              "        vertical-align: top;\n",
              "    }\n",
              "\n",
              "    .dataframe thead th {\n",
              "        text-align: right;\n",
              "    }\n",
              "</style>\n",
              "<table border=\"1\" class=\"dataframe\">\n",
              "  <thead>\n",
              "    <tr style=\"text-align: right;\">\n",
              "      <th></th>\n",
              "      <th>Video</th>\n",
              "      <th>type</th>\n",
              "      <th>first_accuracy</th>\n",
              "      <th>second_accuracy</th>\n",
              "    </tr>\n",
              "  </thead>\n",
              "  <tbody>\n",
              "    <tr>\n",
              "      <th>0</th>\n",
              "      <td>57583_000082_Endzone.mp4</td>\n",
              "      <td>train</td>\n",
              "      <td>0.997</td>\n",
              "      <td>0.994</td>\n",
              "    </tr>\n",
              "    <tr>\n",
              "      <th>1</th>\n",
              "      <td>57583_000082_Sideline.mp4</td>\n",
              "      <td>train</td>\n",
              "      <td>0.993</td>\n",
              "      <td>0.966</td>\n",
              "    </tr>\n",
              "    <tr>\n",
              "      <th>2</th>\n",
              "      <td>57584_000336_Endzone.mp4</td>\n",
              "      <td>train</td>\n",
              "      <td>0.959</td>\n",
              "      <td>0.944</td>\n",
              "    </tr>\n",
              "    <tr>\n",
              "      <th>3</th>\n",
              "      <td>57584_000336_Sideline.mp4</td>\n",
              "      <td>train</td>\n",
              "      <td>0.976</td>\n",
              "      <td>0.917</td>\n",
              "    </tr>\n",
              "    <tr>\n",
              "      <th>4</th>\n",
              "      <td>57584_002674_Endzone.mp4</td>\n",
              "      <td>train</td>\n",
              "      <td>0.988</td>\n",
              "      <td>0.988</td>\n",
              "    </tr>\n",
              "    <tr>\n",
              "      <th>5</th>\n",
              "      <td>57584_002674_Sideline.mp4</td>\n",
              "      <td>train</td>\n",
              "      <td>0.981</td>\n",
              "      <td>0.964</td>\n",
              "    </tr>\n",
              "    <tr>\n",
              "      <th>6</th>\n",
              "      <td>57586_000540_Endzone.mp4</td>\n",
              "      <td>test</td>\n",
              "      <td>0.978</td>\n",
              "      <td>0.919</td>\n",
              "    </tr>\n",
              "    <tr>\n",
              "      <th>7</th>\n",
              "      <td>57586_000540_Sideline.mp4</td>\n",
              "      <td>test</td>\n",
              "      <td>0.994</td>\n",
              "      <td>0.879</td>\n",
              "    </tr>\n",
              "    <tr>\n",
              "      <th>8</th>\n",
              "      <td>57586_001934_Endzone.mp4</td>\n",
              "      <td>test</td>\n",
              "      <td>0.989</td>\n",
              "      <td>0.984</td>\n",
              "    </tr>\n",
              "    <tr>\n",
              "      <th>9</th>\n",
              "      <td>57586_001934_Sideline.mp4</td>\n",
              "      <td>test</td>\n",
              "      <td>0.991</td>\n",
              "      <td>0.909</td>\n",
              "    </tr>\n",
              "  </tbody>\n",
              "</table>\n",
              "</div>\n",
              "      <button class=\"colab-df-convert\" onclick=\"convertToInteractive('df-321d3963-8b08-4e7e-b6b8-1f138a159d39')\"\n",
              "              title=\"Convert this dataframe to an interactive table.\"\n",
              "              style=\"display:none;\">\n",
              "        \n",
              "  <svg xmlns=\"http://www.w3.org/2000/svg\" height=\"24px\"viewBox=\"0 0 24 24\"\n",
              "       width=\"24px\">\n",
              "    <path d=\"M0 0h24v24H0V0z\" fill=\"none\"/>\n",
              "    <path d=\"M18.56 5.44l.94 2.06.94-2.06 2.06-.94-2.06-.94-.94-2.06-.94 2.06-2.06.94zm-11 1L8.5 8.5l.94-2.06 2.06-.94-2.06-.94L8.5 2.5l-.94 2.06-2.06.94zm10 10l.94 2.06.94-2.06 2.06-.94-2.06-.94-.94-2.06-.94 2.06-2.06.94z\"/><path d=\"M17.41 7.96l-1.37-1.37c-.4-.4-.92-.59-1.43-.59-.52 0-1.04.2-1.43.59L10.3 9.45l-7.72 7.72c-.78.78-.78 2.05 0 2.83L4 21.41c.39.39.9.59 1.41.59.51 0 1.02-.2 1.41-.59l7.78-7.78 2.81-2.81c.8-.78.8-2.07 0-2.86zM5.41 20L4 18.59l7.72-7.72 1.47 1.35L5.41 20z\"/>\n",
              "  </svg>\n",
              "      </button>\n",
              "      \n",
              "  <style>\n",
              "    .colab-df-container {\n",
              "      display:flex;\n",
              "      flex-wrap:wrap;\n",
              "      gap: 12px;\n",
              "    }\n",
              "\n",
              "    .colab-df-convert {\n",
              "      background-color: #E8F0FE;\n",
              "      border: none;\n",
              "      border-radius: 50%;\n",
              "      cursor: pointer;\n",
              "      display: none;\n",
              "      fill: #1967D2;\n",
              "      height: 32px;\n",
              "      padding: 0 0 0 0;\n",
              "      width: 32px;\n",
              "    }\n",
              "\n",
              "    .colab-df-convert:hover {\n",
              "      background-color: #E2EBFA;\n",
              "      box-shadow: 0px 1px 2px rgba(60, 64, 67, 0.3), 0px 1px 3px 1px rgba(60, 64, 67, 0.15);\n",
              "      fill: #174EA6;\n",
              "    }\n",
              "\n",
              "    [theme=dark] .colab-df-convert {\n",
              "      background-color: #3B4455;\n",
              "      fill: #D2E3FC;\n",
              "    }\n",
              "\n",
              "    [theme=dark] .colab-df-convert:hover {\n",
              "      background-color: #434B5C;\n",
              "      box-shadow: 0px 1px 3px 1px rgba(0, 0, 0, 0.15);\n",
              "      filter: drop-shadow(0px 1px 2px rgba(0, 0, 0, 0.3));\n",
              "      fill: #FFFFFF;\n",
              "    }\n",
              "  </style>\n",
              "\n",
              "      <script>\n",
              "        const buttonEl =\n",
              "          document.querySelector('#df-321d3963-8b08-4e7e-b6b8-1f138a159d39 button.colab-df-convert');\n",
              "        buttonEl.style.display =\n",
              "          google.colab.kernel.accessAllowed ? 'block' : 'none';\n",
              "\n",
              "        async function convertToInteractive(key) {\n",
              "          const element = document.querySelector('#df-321d3963-8b08-4e7e-b6b8-1f138a159d39');\n",
              "          const dataTable =\n",
              "            await google.colab.kernel.invokeFunction('convertToInteractive',\n",
              "                                                     [key], {});\n",
              "          if (!dataTable) return;\n",
              "\n",
              "          const docLinkHtml = 'Like what you see? Visit the ' +\n",
              "            '<a target=\"_blank\" href=https://colab.research.google.com/notebooks/data_table.ipynb>data table notebook</a>'\n",
              "            + ' to learn more about interactive tables.';\n",
              "          element.innerHTML = '';\n",
              "          dataTable['output_type'] = 'display_data';\n",
              "          await google.colab.output.renderOutput(dataTable, element);\n",
              "          const docLink = document.createElement('div');\n",
              "          docLink.innerHTML = docLinkHtml;\n",
              "          element.appendChild(docLink);\n",
              "        }\n",
              "      </script>\n",
              "    </div>\n",
              "  </div>\n",
              "  "
            ],
            "text/plain": [
              "                       Video   type  first_accuracy  second_accuracy\n",
              "0   57583_000082_Endzone.mp4  train           0.997            0.994\n",
              "1  57583_000082_Sideline.mp4  train           0.993            0.966\n",
              "2   57584_000336_Endzone.mp4  train           0.959            0.944\n",
              "3  57584_000336_Sideline.mp4  train           0.976            0.917\n",
              "4   57584_002674_Endzone.mp4  train           0.988            0.988\n",
              "5  57584_002674_Sideline.mp4  train           0.981            0.964\n",
              "6   57586_000540_Endzone.mp4   test           0.978            0.919\n",
              "7  57586_000540_Sideline.mp4   test           0.994            0.879\n",
              "8   57586_001934_Endzone.mp4   test           0.989            0.984\n",
              "9  57586_001934_Sideline.mp4   test           0.991            0.909"
            ]
          },
          "execution_count": 8,
          "metadata": {},
          "output_type": "execute_result"
        }
      ],
      "source": [
        "result = pd.read_csv('result_3_big.csv')\n",
        "print('Среднее на тесте на первом решении: ', result.first_accuracy[-4:].mean())\n",
        "print('Среднее на тесте на втором решении: ', result.second_accuracy[-4:].mean())\n",
        "result"
      ]
    },
    {
      "cell_type": "markdown",
      "metadata": {
        "id": "ZibzVnkSu9PQ"
      },
      "source": [
        "**Общий вывод:** Как мы видим на любом фрейме точность первого решения оказалось выше, чем у второго. Также преимущества первого решения заключаются в том, что здесь не нужно иметь предообученную модель, нужно просто иметь достаточо данных, также на таком количестве данных оно было намного быстрее. Тем не менее оба решения показали хороший результат."
      ]
    }
  ],
  "metadata": {
    "accelerator": "GPU",
    "colab": {
      "provenance": []
    },
    "gpuClass": "standard",
    "kernelspec": {
      "display_name": "Python 3 (ipykernel)",
      "language": "python",
      "name": "python3"
    },
    "language_info": {
      "codemirror_mode": {
        "name": "ipython",
        "version": 3
      },
      "file_extension": ".py",
      "mimetype": "text/x-python",
      "name": "python",
      "nbconvert_exporter": "python",
      "pygments_lexer": "ipython3",
      "version": "3.8.10"
    }
  },
  "nbformat": 4,
  "nbformat_minor": 0
}
